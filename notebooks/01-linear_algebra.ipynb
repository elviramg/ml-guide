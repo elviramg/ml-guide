{
 "cells": [
  {
   "cell_type": "markdown",
   "metadata": {
    "slideshow": {
     "slide_type": "slide"
    }
   },
   "source": [
    "<h1 style=\"color:#800020;\">Linear Algebra Basics</h1>"
   ]
  },
  {
   "cell_type": "markdown",
   "metadata": {
    "slideshow": {
     "slide_type": "slide"
    }
   },
   "source": [
    "## Table of Contents\n",
    "   \n",
    "   - [What is linear algebra?](#what-is-linear-algebra-?)\n",
    "   - [Matrix and its properties](#matrix-and-its-properties)\n",
    "   - [Eigenvalues and Eigen decomposition](#eigenvalues-and-eigen-decomposition)\n",
    "   - [Matrix operations](#matrix-operations)\n"
   ]
  },
  {
   "cell_type": "markdown",
   "metadata": {
    "slideshow": {
     "slide_type": "subslide"
    }
   },
   "source": [
    "## What is Linear Algebra?\n",
    "\n",
    "<p style=\"text-align: center;\">\n",
    "    <img src=\"https://devhumor.com/content/uploads/images/June2024/machine_learning_linear_algebra.jpg\" alt=\"Machine Learning Linear Algebra Meme\" width=\"300\">\n",
    "</p>"
   ]
  },
  {
   "cell_type": "markdown",
   "metadata": {
    "slideshow": {
     "slide_type": "subslide"
    }
   },
   "source": [
    "I know you have already heard this word, and I know you thought it was the most horrible thing in the world. But, in fact, it can be quite funny and easy to understand.\n",
    "\n",
    "As the word suggests, it's the mathematical part that works with flat things. That's it, that's linear algebra. You can perform the same basic operations you already learned in algebra: addition, subtraction, multiplication, etc."
   ]
  },
  {
   "cell_type": "markdown",
   "metadata": {
    "slideshow": {
     "slide_type": "subslide"
    }
   },
   "source": [
    "### Matrix and its properties"
   ]
  },
  {
   "cell_type": "markdown",
   "metadata": {
    "slideshow": {
     "slide_type": "subslide"
    }
   },
   "source": [
    "### Matrix operations\n",
    "(Content goes here)"
   ]
  },
  {
   "cell_type": "markdown",
   "metadata": {
    "slideshow": {
     "slide_type": "subslide"
    }
   },
   "source": [
    "### Eigenvalues and Eigen decomposition\n",
    "(Content goes here)"
   ]
  }
 ],
 "metadata": {
  "kernelspec": {
   "display_name": "venv",
   "language": "python",
   "name": "python3"
  },
  "language_info": {
   "codemirror_mode": {
    "name": "ipython",
    "version": 3
   },
   "file_extension": ".py",
   "mimetype": "text/x-python",
   "name": "python",
   "nbconvert_exporter": "python",
   "pygments_lexer": "ipython3",
   "version": "3.10.6"
  }
 },
 "nbformat": 4,
 "nbformat_minor": 2
}
